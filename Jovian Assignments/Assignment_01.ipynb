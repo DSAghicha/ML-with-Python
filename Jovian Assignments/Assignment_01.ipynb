{
 "cells": [
  {
   "cell_type": "markdown",
   "source": [
    "# House Price Prediction with Linear Regression"
   ],
   "metadata": {}
  },
  {
   "cell_type": "markdown",
   "source": [
    "![](https://i.imgur.com/3sw1fY9.jpg)"
   ],
   "metadata": {}
  }
 ],
 "metadata": {
  "orig_nbformat": 4,
  "language_info": {
   "name": "python"
  }
 },
 "nbformat": 4,
 "nbformat_minor": 2
}